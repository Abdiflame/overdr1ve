{
 "cells": [
  {
   "cell_type": "code",
   "execution_count": null,
   "id": "c53934ce",
   "metadata": {},
   "outputs": [],
   "source": [
    "from stable_baselines3 import PPO\n",
    "from overdr1ve_env import Overdr1veEnv\n",
    "import pandas as pd\n",
    "\n",
    "# Load data\n",
    "car_df = pd.read_csv(\"data_csv/cars.csv\")\n",
    "upgrade_df = pd.read_csv(\"data_csv/upgrades.csv\")\n",
    "track_df = pd.read_csv(\"data_csv/tracks.csv\").sample(n=12, random_state=42).reset_index(drop=True)\n",
    "\n",
    "car = car_df.iloc[0]\n",
    "upgrades = upgrade_df.sample(12, replace=True).to_dict(orient=\"records\")\n",
    "\n",
    "# Reload environment and model\n",
    "env = Overdr1veEnv(car, upgrades, track_df)\n",
    "model = PPO.load(\"ppo_overdr1ve\")\n",
    "\n",
    "# Run test\n",
    "obs = env.reset()\n",
    "action, _ = model.predict(obs)\n",
    "obs, reward, done, info = env.step(action)\n",
    "\n",
    "print(f\"Selected Upgrade: {info['upgrade_used']}\")\n",
    "print(f\"Reward (Points): {reward}\")\n",
    "print(f\"Finished?: {info['can_finish']}\")\n"
   ]
  }
 ],
 "metadata": {
  "language_info": {
   "name": "python"
  }
 },
 "nbformat": 4,
 "nbformat_minor": 5
}
